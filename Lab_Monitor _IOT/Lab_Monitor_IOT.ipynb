{
 "cells": [
  {
   "cell_type": "code",
   "execution_count": null,
   "id": "ba787b1a",
   "metadata": {},
   "outputs": [],
   "source": [
    "import pandas as pd\n",
    "import numpy as np\n",
    "import matplotlib.pyplot as plt\n",
    "import warnings\n",
    "warnings.filterwarnings('ignore')\n",
    "%matplotlib inline \n",
    "import re\n",
    "import datetime as dt\n",
    "import seaborn as sns\n",
    "import pickle"
   ]
  },
  {
   "cell_type": "code",
   "execution_count": null,
   "id": "eba832f7",
   "metadata": {},
   "outputs": [],
   "source": [
    "df=pd.read_csv('Downloads\\Lab_monitor_IOT.csv')"
   ]
  },
  {
   "cell_type": "code",
   "execution_count": null,
   "id": "6187f6fe",
   "metadata": {},
   "outputs": [],
   "source": [
    "df.head()"
   ]
  },
  {
   "cell_type": "code",
   "execution_count": null,
   "id": "13ee10e9",
   "metadata": {},
   "outputs": [],
   "source": [
    "df1=df.copy()"
   ]
  },
  {
   "cell_type": "code",
   "execution_count": null,
   "id": "39cfcfc3",
   "metadata": {},
   "outputs": [],
   "source": [
    "df1['id']=df1['id'].str.extract(r'([0-9]+)')"
   ]
  },
  {
   "cell_type": "code",
   "execution_count": null,
   "id": "95444030",
   "metadata": {},
   "outputs": [],
   "source": [
    "df1.head()"
   ]
  },
  {
   "cell_type": "markdown",
   "id": "1738cffe",
   "metadata": {},
   "source": [
    "extract day ,month,day_name, hour,season, timing"
   ]
  },
  {
   "cell_type": "code",
   "execution_count": null,
   "id": "e547b8aa",
   "metadata": {},
   "outputs": [],
   "source": [
    "df1.info()"
   ]
  },
  {
   "cell_type": "code",
   "execution_count": null,
   "id": "88ba7c7c",
   "metadata": {},
   "outputs": [],
   "source": [
    "df1['noted_date']=pd.to_datetime(df1['noted_date'])"
   ]
  },
  {
   "cell_type": "code",
   "execution_count": null,
   "id": "92dea6ac",
   "metadata": {},
   "outputs": [],
   "source": [
    "df1.info()"
   ]
  },
  {
   "cell_type": "markdown",
   "id": "74d2208c",
   "metadata": {},
   "source": [
    "Now we have converted it into date time now we can extract day ,hours,time from the columns"
   ]
  },
  {
   "cell_type": "code",
   "execution_count": null,
   "id": "0876c415",
   "metadata": {},
   "outputs": [],
   "source": [
    "df1['Day']=df1['noted_date'].dt.day\n",
    "df1['Month']=df1['noted_date'].dt.month\n",
    "df1['Day_name']=df1['noted_date'].dt.day_name()\n",
    "df1['hours']=df1['noted_date'].dt.hour\n"
   ]
  },
  {
   "cell_type": "code",
   "execution_count": null,
   "id": "14c5b13e",
   "metadata": {},
   "outputs": [],
   "source": [
    "df1.head()"
   ]
  },
  {
   "cell_type": "code",
   "execution_count": null,
   "id": "54516197",
   "metadata": {},
   "outputs": [],
   "source": [
    "def season(x):\n",
    "    if x in [11,12,1,2]:\n",
    "        return 'winter'\n",
    "    elif x in [3,4]:\n",
    "        return 'spring'\n",
    "    elif x in [5,6,7]:\n",
    "        return 'summer'\n",
    "    else:\n",
    "        return 'rainy'"
   ]
  },
  {
   "cell_type": "code",
   "execution_count": null,
   "id": "c44f2f7c",
   "metadata": {},
   "outputs": [],
   "source": [
    "df1['season']=df1['Month'].apply(season)"
   ]
  },
  {
   "cell_type": "code",
   "execution_count": null,
   "id": "cb47f1a0",
   "metadata": {},
   "outputs": [],
   "source": [
    "df1.head()"
   ]
  },
  {
   "cell_type": "code",
   "execution_count": null,
   "id": "fee0a20f",
   "metadata": {},
   "outputs": [],
   "source": [
    "def timing(x):\n",
    "    if x in range(3,5):\n",
    "        return 'Early Morning'\n",
    "    elif x in range(6,11):\n",
    "        return 'Morning'\n",
    "    elif x==12:\n",
    "        return 'Noon'\n",
    "    elif x in range(13,15):\n",
    "        return 'after Noon'\n",
    "    elif x in range(16,18):\n",
    "        return 'Evening'\n",
    "    else:\n",
    "        return 'Night'"
   ]
  },
  {
   "cell_type": "code",
   "execution_count": null,
   "id": "f480eec4",
   "metadata": {},
   "outputs": [],
   "source": [
    "df1['Timing']=df1['hours'].apply(timing)"
   ]
  },
  {
   "cell_type": "code",
   "execution_count": null,
   "id": "c0bc6f9b",
   "metadata": {},
   "outputs": [],
   "source": [
    "df1.head()"
   ]
  },
  {
   "cell_type": "code",
   "execution_count": null,
   "id": "16d149af",
   "metadata": {},
   "outputs": [],
   "source": []
  },
  {
   "cell_type": "markdown",
   "id": "70938d24",
   "metadata": {},
   "source": [
    "# EDA"
   ]
  },
  {
   "cell_type": "code",
   "execution_count": 115,
   "id": "224a7eb4",
   "metadata": {},
   "outputs": [
    {
     "name": "stdout",
     "output_type": "stream",
     "text": [
      "<class 'pandas.core.frame.DataFrame'>\n",
      "RangeIndex: 97606 entries, 0 to 97605\n",
      "Data columns (total 11 columns):\n",
      " #   Column      Non-Null Count  Dtype         \n",
      "---  ------      --------------  -----         \n",
      " 0   id          97606 non-null  object        \n",
      " 1   room_id/id  97606 non-null  object        \n",
      " 2   noted_date  97606 non-null  datetime64[ns]\n",
      " 3   temp        97606 non-null  int64         \n",
      " 4   out/in      97606 non-null  object        \n",
      " 5   Day         97606 non-null  int64         \n",
      " 6   Month       97606 non-null  int64         \n",
      " 7   Day_name    97606 non-null  object        \n",
      " 8   hours       97606 non-null  int64         \n",
      " 9   season      97606 non-null  object        \n",
      " 10  Timing      97606 non-null  object        \n",
      "dtypes: datetime64[ns](1), int64(4), object(6)\n",
      "memory usage: 8.2+ MB\n"
     ]
    }
   ],
   "source": [
    "df1.info()"
   ]
  },
  {
   "cell_type": "code",
   "execution_count": 116,
   "id": "788a6297",
   "metadata": {},
   "outputs": [
    {
     "data": {
      "text/plain": [
       "<AxesSubplot:xlabel='out/in'>"
      ]
     },
     "execution_count": 116,
     "metadata": {},
     "output_type": "execute_result"
    },
    {
     "data": {
      "image/png": "[encoded data removed]",
      "text/plain": [
       "<Figure size 432x288 with 1 Axes>"
      ]
     },
     "metadata": {
      "needs_background": "light"
     },
     "output_type": "display_data"
    }
   ],
   "source": [
    "df.plot('out/in')"
   ]
  },
  {
   "cell_type": "code",
   "execution_count": 117,
   "id": "970771d8",
   "metadata": {},
   "outputs": [
    {
     "data": {
      "text/plain": [
       "<AxesSubplot:xlabel='Month', ylabel='temp'>"
      ]
     },
     "execution_count": 117,
     "metadata": {},
     "output_type": "execute_result"
    },
    {
     "data": {
      "image/png": "[encoded data removed]",
      "text/plain": [
       "<Figure size 432x288 with 1 Axes>"
      ]
     },
     "metadata": {
      "needs_background": "light"
     },
     "output_type": "display_data"
    }
   ],
   "source": [
    "sns.barplot(x='Month',y='temp',data=df1)"
   ]
  },
  {
   "cell_type": "markdown",
   "id": "95e83792",
   "metadata": {},
   "source": [
    "As we can see there are temp is 41  in rainy season ,in sunday temp is 29 "
   ]
  },
  {
   "cell_type": "code",
   "execution_count": 118,
   "id": "ba3af545",
   "metadata": {},
   "outputs": [
    {
     "data": {
      "text/plain": [
       "<AxesSubplot:xlabel='season', ylabel='count'>"
      ]
     },
     "execution_count": 118,
     "metadata": {},
     "output_type": "execute_result"
    },
    {
     "data": {
      "image/png": "[encoded data removed]",
      "text/plain": [
       "<Figure size 1080x720 with 3 Axes>"
      ]
     },
     "metadata": {
      "needs_background": "light"
     },
     "output_type": "display_data"
    }
   ],
   "source": [
    "plt.figure(figsize=(15,10))\n",
    "plt.subplot(2,2,1)\n",
    "sns.countplot(x='Day',hue='out/in',data=df1)\n",
    "plt.subplot(2,2,2)\n",
    "sns.countplot(x='Day_name',hue='out/in',data=df1)\n",
    "plt.subplot(2,2,3)\n",
    "sns.countplot(x='season',hue='out/in',data=df1)"
   ]
  },
  {
   "cell_type": "markdown",
   "id": "d7d56e42",
   "metadata": {},
   "source": [
    "As we can see their are on 9th ,wednesday and rainy season out is maximum"
   ]
  },
  {
   "cell_type": "code",
   "execution_count": 119,
   "id": "b730c68a",
   "metadata": {},
   "outputs": [
    {
     "data": {
      "text/plain": [
       "([<matplotlib.patches.Wedge at 0x21f01c64790>,\n",
       "  <matplotlib.patches.Wedge at 0x21f01c64eb0>,\n",
       "  <matplotlib.patches.Wedge at 0x21f01c73610>,\n",
       "  <matplotlib.patches.Wedge at 0x21f01c73d30>,\n",
       "  <matplotlib.patches.Wedge at 0x21f01c84430>,\n",
       "  <matplotlib.patches.Wedge at 0x21f01c84b50>],\n",
       " [Text(0.03274487471090358, 1.0995125161543944, 'Night'),\n",
       "  Text(-0.9411458574701079, -0.5694246877040505, 'Morning'),\n",
       "  Text(-0.045234953117112585, -1.0990695150974268, 'after Noon'),\n",
       "  Text(0.6394627820099505, -0.895034831961357, 'Evening'),\n",
       "  Text(0.9828234362357443, -0.4940223610179643, 'Early Morning'),\n",
       "  Text(1.090667372039901, -0.14298490678241776, 'Noon')],\n",
       " [Text(0.01786084075140195, 0.5997340997205787, '49.05%'),\n",
       "  Text(-0.513352285892786, -0.31059528420220933, '19.22%'),\n",
       "  Text(-0.02467361079115232, -0.5994924627804145, '12.16%'),\n",
       "  Text(0.34879788109633664, -0.48820081743346744, '8.90%'),\n",
       "  Text(0.5360855106740423, -0.26946674237343504, '6.53%'),\n",
       "  Text(0.5949094756581277, -0.07799176733586423, '4.15%')])"
      ]
     },
     "execution_count": 119,
     "metadata": {},
     "output_type": "execute_result"
    },
    {
     "data": {
      "image/png": "[encoded data removed]",
      "text/plain": [
       "<Figure size 720x720 with 1 Axes>"
      ]
     },
     "metadata": {},
     "output_type": "display_data"
    }
   ],
   "source": [
    "plt.figure(figsize=(10,10))\n",
    "# plt.subplot(2,2,1)\n",
    "plt.pie(x=df1['Timing'].value_counts(),labels=df1['Timing'].value_counts().index,autopct='%.2f%%',data=df1)\n",
    "# plt.subplot(2,2,2)\n",
    "# sns.countplot(x='Day_name',hue='out/in',data=df1)\n",
    "# plt.subplot(2,2,3)\n",
    "# sns.countplot(x='season',hue='out/in',data=df1)"
   ]
  },
  {
   "cell_type": "markdown",
   "id": "fce5985e",
   "metadata": {},
   "source": [
    " from the graph we can see the maximum percentage in night "
   ]
  },
  {
   "cell_type": "code",
   "execution_count": 120,
   "id": "fdeb051b",
   "metadata": {},
   "outputs": [
    {
     "data": {
      "text/plain": [
       "<AxesSubplot:ylabel='Count'>"
      ]
     },
     "execution_count": 120,
     "metadata": {},
     "output_type": "execute_result"
    },
    {
     "data": {
      "image/png": "[encoded data removed]",
      "text/plain": [
       "<Figure size 432x288 with 1 Axes>"
      ]
     },
     "metadata": {
      "needs_background": "light"
     },
     "output_type": "display_data"
    }
   ],
   "source": [
    "sns.histplot(df1)"
   ]
  },
  {
   "cell_type": "markdown",
   "id": "a55d35a9",
   "metadata": {},
   "source": [
    "As we can see the data is not normalily distributed "
   ]
  },
  {
   "cell_type": "code",
   "execution_count": 121,
   "id": "21f8c645",
   "metadata": {},
   "outputs": [],
   "source": [
    "df10=df1.drop(['id','noted_date'],axis=1)\n"
   ]
  },
  {
   "cell_type": "code",
   "execution_count": 122,
   "id": "e07c47c7",
   "metadata": {},
   "outputs": [
    {
     "data": {
      "text/plain": [
       "<AxesSubplot:>"
      ]
     },
     "execution_count": 122,
     "metadata": {},
     "output_type": "execute_result"
    },
    {
     "data": {
      "image/png": "[encoded data removed]",
      "text/plain": [
       "<Figure size 432x288 with 1 Axes>"
      ]
     },
     "metadata": {
      "needs_background": "light"
     },
     "output_type": "display_data"
    }
   ],
   "source": [
    "df10.plot.area(stacked=False)"
   ]
  },
  {
   "cell_type": "code",
   "execution_count": 123,
   "id": "93c13e4a",
   "metadata": {},
   "outputs": [
    {
     "data": {
      "text/html": [
       "<div>\n",
       "<style scoped>\n",
       "    .dataframe tbody tr th:only-of-type {\n",
       "        vertical-align: middle;\n",
       "    }\n",
       "\n",
       "    .dataframe tbody tr th {\n",
       "        vertical-align: top;\n",
       "    }\n",
       "\n",
       "    .dataframe thead th {\n",
       "        text-align: right;\n",
       "    }\n",
       "</style>\n",
       "<table border=\"1\" class=\"dataframe\">\n",
       "  <thead>\n",
       "    <tr style=\"text-align: right;\">\n",
       "      <th></th>\n",
       "      <th>id</th>\n",
       "      <th>room_id/id</th>\n",
       "      <th>noted_date</th>\n",
       "      <th>temp</th>\n",
       "      <th>out/in</th>\n",
       "      <th>Day</th>\n",
       "      <th>Month</th>\n",
       "      <th>Day_name</th>\n",
       "      <th>hours</th>\n",
       "      <th>season</th>\n",
       "      <th>Timing</th>\n",
       "    </tr>\n",
       "  </thead>\n",
       "  <tbody>\n",
       "    <tr>\n",
       "      <th>0</th>\n",
       "      <td>196134</td>\n",
       "      <td>Room Admin</td>\n",
       "      <td>2018-08-12 09:30:00</td>\n",
       "      <td>29</td>\n",
       "      <td>In</td>\n",
       "      <td>12</td>\n",
       "      <td>8</td>\n",
       "      <td>Sunday</td>\n",
       "      <td>9</td>\n",
       "      <td>rainy</td>\n",
       "      <td>Morning</td>\n",
       "    </tr>\n",
       "    <tr>\n",
       "      <th>1</th>\n",
       "      <td>196131</td>\n",
       "      <td>Room Admin</td>\n",
       "      <td>2018-08-12 09:30:00</td>\n",
       "      <td>29</td>\n",
       "      <td>In</td>\n",
       "      <td>12</td>\n",
       "      <td>8</td>\n",
       "      <td>Sunday</td>\n",
       "      <td>9</td>\n",
       "      <td>rainy</td>\n",
       "      <td>Morning</td>\n",
       "    </tr>\n",
       "    <tr>\n",
       "      <th>2</th>\n",
       "      <td>196127</td>\n",
       "      <td>Room Admin</td>\n",
       "      <td>2018-08-12 09:29:00</td>\n",
       "      <td>41</td>\n",
       "      <td>Out</td>\n",
       "      <td>12</td>\n",
       "      <td>8</td>\n",
       "      <td>Sunday</td>\n",
       "      <td>9</td>\n",
       "      <td>rainy</td>\n",
       "      <td>Morning</td>\n",
       "    </tr>\n",
       "    <tr>\n",
       "      <th>3</th>\n",
       "      <td>196128</td>\n",
       "      <td>Room Admin</td>\n",
       "      <td>2018-08-12 09:29:00</td>\n",
       "      <td>41</td>\n",
       "      <td>Out</td>\n",
       "      <td>12</td>\n",
       "      <td>8</td>\n",
       "      <td>Sunday</td>\n",
       "      <td>9</td>\n",
       "      <td>rainy</td>\n",
       "      <td>Morning</td>\n",
       "    </tr>\n",
       "    <tr>\n",
       "      <th>4</th>\n",
       "      <td>196126</td>\n",
       "      <td>Room Admin</td>\n",
       "      <td>2018-08-12 09:29:00</td>\n",
       "      <td>31</td>\n",
       "      <td>In</td>\n",
       "      <td>12</td>\n",
       "      <td>8</td>\n",
       "      <td>Sunday</td>\n",
       "      <td>9</td>\n",
       "      <td>rainy</td>\n",
       "      <td>Morning</td>\n",
       "    </tr>\n",
       "  </tbody>\n",
       "</table>\n",
       "</div>"
      ],
      "text/plain": [
       "       id  room_id/id          noted_date  temp out/in  Day  Month Day_name  \\\n",
       "0  196134  Room Admin 2018-08-12 09:30:00    29     In   12      8   Sunday   \n",
       "1  196131  Room Admin 2018-08-12 09:30:00    29     In   12      8   Sunday   \n",
       "2  196127  Room Admin 2018-08-12 09:29:00    41    Out   12      8   Sunday   \n",
       "3  196128  Room Admin 2018-08-12 09:29:00    41    Out   12      8   Sunday   \n",
       "4  196126  Room Admin 2018-08-12 09:29:00    31     In   12      8   Sunday   \n",
       "\n",
       "   hours season   Timing  \n",
       "0      9  rainy  Morning  \n",
       "1      9  rainy  Morning  \n",
       "2      9  rainy  Morning  \n",
       "3      9  rainy  Morning  \n",
       "4      9  rainy  Morning  "
      ]
     },
     "execution_count": 123,
     "metadata": {},
     "output_type": "execute_result"
    }
   ],
   "source": [
    "df1.head()"
   ]
  },
  {
   "cell_type": "code",
   "execution_count": 124,
   "id": "e020e106",
   "metadata": {},
   "outputs": [
    {
     "data": {
      "text/plain": [
       "<AxesSubplot:xlabel='temp', ylabel='Count'>"
      ]
     },
     "execution_count": 124,
     "metadata": {},
     "output_type": "execute_result"
    },
    {
     "data": {
      "image/png": "[encoded data removed]",
      "text/plain": [
       "<Figure size 432x288 with 1 Axes>"
      ]
     },
     "metadata": {
      "needs_background": "light"
     },
     "output_type": "display_data"
    }
   ],
   "source": [
    "sns.histplot(data=df1,x='temp')"
   ]
  },
  {
   "cell_type": "markdown",
   "id": "53209fb5",
   "metadata": {},
   "source": [
    "As we can see the maximum time temp goes 45 degree "
   ]
  },
  {
   "cell_type": "code",
   "execution_count": 125,
   "id": "04c5c0b1",
   "metadata": {},
   "outputs": [
    {
     "data": {
      "text/plain": [
       "<AxesSubplot:xlabel='Timing', ylabel='temp'>"
      ]
     },
     "execution_count": 125,
     "metadata": {},
     "output_type": "execute_result"
    },
    {
     "data": {
      "image/png": "[encoded data removed]",
      "text/plain": [
       "<Figure size 1080x720 with 4 Axes>"
      ]
     },
     "metadata": {
      "needs_background": "light"
     },
     "output_type": "display_data"
    }
   ],
   "source": [
    "plt.figure(figsize=(15,10))\n",
    "plt.subplot(2,2,4)\n",
    "plt.subplot(2,2,1)\n",
    "sns.barplot(x='Month',y='temp',data=df1)\n",
    "plt.subplot(2,2,2)\n",
    "sns.barplot(x='Day_name',y='temp',data=df1)\n",
    "plt.subplot(2,2,3)\n",
    "sns.barplot(x='season',y='temp',data=df1)\n",
    "plt.subplot(2,2,4)\n",
    "sns.barplot(x='Timing',y='temp',data=df1)\n"
   ]
  },
  {
   "cell_type": "code",
   "execution_count": 126,
   "id": "99896cb3",
   "metadata": {
    "scrolled": true
   },
   "outputs": [
    {
     "data": {
      "text/plain": [
       "<AxesSubplot:xlabel='Timing', ylabel='temp'>"
      ]
     },
     "execution_count": 126,
     "metadata": {},
     "output_type": "execute_result"
    },
    {
     "data": {
      "image/png": "[encoded data removed]",
      "text/plain": [
       "<Figure size 1080x720 with 4 Axes>"
      ]
     },
     "metadata": {
      "needs_background": "light"
     },
     "output_type": "display_data"
    }
   ],
   "source": [
    "plt.figure(figsize=(15,10))\n",
    "plt.subplot(2,2,4)\n",
    "plt.subplot(2,2,1)\n",
    "sns.lineplot(x='Month',y='temp',hue='out/in',data=df1)\n",
    "plt.subplot(2,2,2)\n",
    "sns.lineplot(x='Day_name',y='temp',hue='out/in',data=df1)\n",
    "plt.subplot(2,2,3)\n",
    "sns.lineplot(x='season',y='temp',hue='out/in',data=df1)\n",
    "plt.subplot(2,2,4)\n",
    "sns.lineplot(x='Timing',y='temp',hue='out/in',data=df1)"
   ]
  },
  {
   "cell_type": "markdown",
   "id": "d6857eed",
   "metadata": {},
   "source": [
    "Same like in Line Graph  we can see the temp of ‘in’ is max in November and ‘Out’ is  in Jan month and both have min temp in Month of June.\n",
    "In weeks the ‘Out’ temp is max on Thursday and ‘in’ temp is Max on Friday and on Friday. ‘Out’ is min on Tuesday and ‘in’ is min on Thursday \n",
    "In season rainy 'out' temp is high and in winter 'in' temp is high and in winter ‘out’ is low and in summer 'in' temp is low\n",
    "In timing the 'in' temp is high in noon and out 'temp' is high in morning  and 'out' is low in night and 'in' temp is low in early morning \n"
   ]
  },
  {
   "cell_type": "markdown",
   "id": "549761e9",
   "metadata": {},
   "source": [
    "from the line graph we can understand in jan,on wednesday, in rainy season and in morning time the temp is Max"
   ]
  },
  {
   "cell_type": "code",
   "execution_count": 127,
   "id": "07233203",
   "metadata": {
    "scrolled": true
   },
   "outputs": [
    {
     "data": {
      "text/plain": [
       "<AxesSubplot:xlabel='Timing', ylabel='temp'>"
      ]
     },
     "execution_count": 127,
     "metadata": {},
     "output_type": "execute_result"
    },
    {
     "data": {
      "image/png": "[encoded data removed]",
      "text/plain": [
       "<Figure size 720x720 with 4 Axes>"
      ]
     },
     "metadata": {
      "needs_background": "light"
     },
     "output_type": "display_data"
    }
   ],
   "source": [
    "plt.figure(figsize=(10,10))\n",
    "plt.subplot(2,2,4)\n",
    "plt.subplot(2,2,1)\n",
    "sns.scatterplot(x='temp',y='Day_name',data=df1)\n",
    "plt.subplot(2,2,2)\n",
    "sns.scatterplot(x='temp',y='Day',data=df1)\n",
    "plt.subplot(2,2,3)\n",
    "sns.scatterplot(x='hours',y='temp',data=df1)\n",
    "plt.subplot(2,2,4)\n",
    "sns.scatterplot(x='Timing',y='temp',data=df1)"
   ]
  },
  {
   "cell_type": "markdown",
   "id": "637b2f2c",
   "metadata": {},
   "source": [
    "From the scatter plot we are not getting much information"
   ]
  },
  {
   "cell_type": "code",
   "execution_count": 128,
   "id": "7e0ac6da",
   "metadata": {},
   "outputs": [
    {
     "data": {
      "text/html": [
       "<div>\n",
       "<style scoped>\n",
       "    .dataframe tbody tr th:only-of-type {\n",
       "        vertical-align: middle;\n",
       "    }\n",
       "\n",
       "    .dataframe tbody tr th {\n",
       "        vertical-align: top;\n",
       "    }\n",
       "\n",
       "    .dataframe thead th {\n",
       "        text-align: right;\n",
       "    }\n",
       "</style>\n",
       "<table border=\"1\" class=\"dataframe\">\n",
       "  <thead>\n",
       "    <tr style=\"text-align: right;\">\n",
       "      <th></th>\n",
       "      <th>id</th>\n",
       "      <th>room_id/id</th>\n",
       "      <th>noted_date</th>\n",
       "      <th>temp</th>\n",
       "      <th>out/in</th>\n",
       "      <th>Day</th>\n",
       "      <th>Month</th>\n",
       "      <th>Day_name</th>\n",
       "      <th>hours</th>\n",
       "      <th>season</th>\n",
       "      <th>Timing</th>\n",
       "    </tr>\n",
       "  </thead>\n",
       "  <tbody>\n",
       "    <tr>\n",
       "      <th>0</th>\n",
       "      <td>196134</td>\n",
       "      <td>Room Admin</td>\n",
       "      <td>2018-08-12 09:30:00</td>\n",
       "      <td>29</td>\n",
       "      <td>In</td>\n",
       "      <td>12</td>\n",
       "      <td>8</td>\n",
       "      <td>Sunday</td>\n",
       "      <td>9</td>\n",
       "      <td>rainy</td>\n",
       "      <td>Morning</td>\n",
       "    </tr>\n",
       "    <tr>\n",
       "      <th>1</th>\n",
       "      <td>196131</td>\n",
       "      <td>Room Admin</td>\n",
       "      <td>2018-08-12 09:30:00</td>\n",
       "      <td>29</td>\n",
       "      <td>In</td>\n",
       "      <td>12</td>\n",
       "      <td>8</td>\n",
       "      <td>Sunday</td>\n",
       "      <td>9</td>\n",
       "      <td>rainy</td>\n",
       "      <td>Morning</td>\n",
       "    </tr>\n",
       "    <tr>\n",
       "      <th>2</th>\n",
       "      <td>196127</td>\n",
       "      <td>Room Admin</td>\n",
       "      <td>2018-08-12 09:29:00</td>\n",
       "      <td>41</td>\n",
       "      <td>Out</td>\n",
       "      <td>12</td>\n",
       "      <td>8</td>\n",
       "      <td>Sunday</td>\n",
       "      <td>9</td>\n",
       "      <td>rainy</td>\n",
       "      <td>Morning</td>\n",
       "    </tr>\n",
       "    <tr>\n",
       "      <th>3</th>\n",
       "      <td>196128</td>\n",
       "      <td>Room Admin</td>\n",
       "      <td>2018-08-12 09:29:00</td>\n",
       "      <td>41</td>\n",
       "      <td>Out</td>\n",
       "      <td>12</td>\n",
       "      <td>8</td>\n",
       "      <td>Sunday</td>\n",
       "      <td>9</td>\n",
       "      <td>rainy</td>\n",
       "      <td>Morning</td>\n",
       "    </tr>\n",
       "    <tr>\n",
       "      <th>4</th>\n",
       "      <td>196126</td>\n",
       "      <td>Room Admin</td>\n",
       "      <td>2018-08-12 09:29:00</td>\n",
       "      <td>31</td>\n",
       "      <td>In</td>\n",
       "      <td>12</td>\n",
       "      <td>8</td>\n",
       "      <td>Sunday</td>\n",
       "      <td>9</td>\n",
       "      <td>rainy</td>\n",
       "      <td>Morning</td>\n",
       "    </tr>\n",
       "  </tbody>\n",
       "</table>\n",
       "</div>"
      ],
      "text/plain": [
       "       id  room_id/id          noted_date  temp out/in  Day  Month Day_name  \\\n",
       "0  196134  Room Admin 2018-08-12 09:30:00    29     In   12      8   Sunday   \n",
       "1  196131  Room Admin 2018-08-12 09:30:00    29     In   12      8   Sunday   \n",
       "2  196127  Room Admin 2018-08-12 09:29:00    41    Out   12      8   Sunday   \n",
       "3  196128  Room Admin 2018-08-12 09:29:00    41    Out   12      8   Sunday   \n",
       "4  196126  Room Admin 2018-08-12 09:29:00    31     In   12      8   Sunday   \n",
       "\n",
       "   hours season   Timing  \n",
       "0      9  rainy  Morning  \n",
       "1      9  rainy  Morning  \n",
       "2      9  rainy  Morning  \n",
       "3      9  rainy  Morning  \n",
       "4      9  rainy  Morning  "
      ]
     },
     "execution_count": 128,
     "metadata": {},
     "output_type": "execute_result"
    }
   ],
   "source": [
    "df1.head()"
   ]
  },
  {
   "cell_type": "markdown",
   "id": "b1959c65",
   "metadata": {},
   "source": [
    "As we can see the graph on first  month of the year jan, wednesday and in rainy season temp is maximum, timing are almost same"
   ]
  },
  {
   "cell_type": "markdown",
   "id": "16a764e3",
   "metadata": {},
   "source": [
    "# Preprocessing"
   ]
  },
  {
   "cell_type": "code",
   "execution_count": null,
   "id": "f2f3f24a",
   "metadata": {},
   "outputs": [],
   "source": [
    "df1.head()"
   ]
  },
  {
   "cell_type": "markdown",
   "id": "2fb7923e",
   "metadata": {},
   "source": [
    "we will remove room_id because same value is repeating and machine will not learn new from this"
   ]
  },
  {
   "cell_type": "code",
   "execution_count": null,
   "id": "21446953",
   "metadata": {},
   "outputs": [],
   "source": [
    "df1=df1.drop('room_id/id',axis=1)"
   ]
  },
  {
   "cell_type": "code",
   "execution_count": null,
   "id": "dbe86fd7",
   "metadata": {},
   "outputs": [],
   "source": [
    "df1.head()"
   ]
  },
  {
   "cell_type": "code",
   "execution_count": null,
   "id": "b62576a3",
   "metadata": {},
   "outputs": [],
   "source": [
    "df1.isnull().sum()"
   ]
  },
  {
   "cell_type": "markdown",
   "id": "98ed2eb4",
   "metadata": {},
   "source": [
    "As we can see their are no null values"
   ]
  },
  {
   "cell_type": "code",
   "execution_count": null,
   "id": "0ce642fc",
   "metadata": {},
   "outputs": [],
   "source": [
    "df1.describe()"
   ]
  },
  {
   "cell_type": "code",
   "execution_count": null,
   "id": "85f7a8aa",
   "metadata": {},
   "outputs": [],
   "source": [
    "sns.boxplot(data=df1)"
   ]
  },
  {
   "cell_type": "code",
   "execution_count": null,
   "id": "3a6201bf",
   "metadata": {},
   "outputs": [],
   "source": [
    "sns.boxplot(x='Day',data=df1)"
   ]
  },
  {
   "cell_type": "code",
   "execution_count": null,
   "id": "0b372173",
   "metadata": {},
   "outputs": [],
   "source": [
    "sns.boxplot(x='Month',data=df1)"
   ]
  },
  {
   "cell_type": "markdown",
   "id": "1627c6c2",
   "metadata": {},
   "source": [
    "As we can see there are outlier on day columns\n",
    "let remove the outliers "
   ]
  },
  {
   "cell_type": "code",
   "execution_count": null,
   "id": "ab33086e",
   "metadata": {},
   "outputs": [],
   "source": [
    "Q1=df1.quantile(.25)\n",
    "Q3=df1.quantile(.75)\n",
    "IQR=Q3-Q1\n",
    "Upper_fance=Q3+1.5*IQR\n",
    "lower_fance=Q1-1.5*IQR"
   ]
  },
  {
   "cell_type": "code",
   "execution_count": null,
   "id": "8cdf639f",
   "metadata": {},
   "outputs": [],
   "source": [
    "print('Upper_fance',Upper_fance)\n",
    "print('lower_fance',lower_fance)"
   ]
  },
  {
   "cell_type": "code",
   "execution_count": null,
   "id": "4af6fd5a",
   "metadata": {},
   "outputs": [],
   "source": [
    "df1.describe()"
   ]
  },
  {
   "cell_type": "code",
   "execution_count": null,
   "id": "309499da",
   "metadata": {},
   "outputs": [],
   "source": [
    "df1['Day']=np.where(df1['Day']>29,29,np.where(df1['Day']<-3,-3,df1['Day']))\n",
    "df1['Month']=np.where(df1['Month']>11.5,11.5,np.where(df1['Month']<-3,-3,df1['Month']))\n",
    "df1['hours']=np.where(df1['hours']>32,32,np.where(df1['hours']<-3,-3,df1['hours']))"
   ]
  },
  {
   "cell_type": "code",
   "execution_count": null,
   "id": "f2c41670",
   "metadata": {},
   "outputs": [],
   "source": [
    "df1.describe()"
   ]
  },
  {
   "cell_type": "markdown",
   "id": "003545e4",
   "metadata": {},
   "source": [
    "we have treat outlier by capping technique"
   ]
  },
  {
   "cell_type": "markdown",
   "id": "c863eb5b",
   "metadata": {},
   "source": [
    "now we will check the correlation "
   ]
  },
  {
   "cell_type": "code",
   "execution_count": null,
   "id": "f9ae2de7",
   "metadata": {},
   "outputs": [],
   "source": [
    "Corr_matrix=df1.corr()"
   ]
  },
  {
   "cell_type": "code",
   "execution_count": null,
   "id": "afe735c5",
   "metadata": {},
   "outputs": [],
   "source": [
    "Corr_matrix"
   ]
  },
  {
   "cell_type": "code",
   "execution_count": null,
   "id": "afe30305",
   "metadata": {},
   "outputs": [],
   "source": [
    "sns.heatmap(Corr_matrix,annot=True)"
   ]
  },
  {
   "cell_type": "markdown",
   "id": "444baee4",
   "metadata": {},
   "source": [
    "As we can see there are not multi correlation"
   ]
  },
  {
   "cell_type": "markdown",
   "id": "2b6d8002",
   "metadata": {},
   "source": [
    "Now we will proceed for label Encoding"
   ]
  },
  {
   "cell_type": "code",
   "execution_count": null,
   "id": "2083b9b7",
   "metadata": {},
   "outputs": [],
   "source": [
    "df1.head()"
   ]
  },
  {
   "cell_type": "markdown",
   "id": "3b33da7a",
   "metadata": {},
   "source": [
    " label encoding"
   ]
  },
  {
   "cell_type": "code",
   "execution_count": null,
   "id": "5afc6ec3",
   "metadata": {},
   "outputs": [],
   "source": [
    "df1['season'].value_counts()"
   ]
  },
  {
   "cell_type": "code",
   "execution_count": null,
   "id": "1fe09880",
   "metadata": {},
   "outputs": [],
   "source": [
    "df1['Timing'].value_counts()"
   ]
  },
  {
   "cell_type": "code",
   "execution_count": null,
   "id": "97f57768",
   "metadata": {},
   "outputs": [],
   "source": [
    "from sklearn.preprocessing import LabelEncoder "
   ]
  },
  {
   "cell_type": "code",
   "execution_count": null,
   "id": "05d543a3",
   "metadata": {},
   "outputs": [],
   "source": [
    "le=LabelEncoder()"
   ]
  },
  {
   "cell_type": "code",
   "execution_count": null,
   "id": "70962869",
   "metadata": {},
   "outputs": [],
   "source": [
    "df1[['out/in','Day_name','season','Timing']]=df1[['out/in','Day_name','season','Timing']].apply(le.fit_transform)"
   ]
  },
  {
   "cell_type": "code",
   "execution_count": null,
   "id": "e986869f",
   "metadata": {},
   "outputs": [],
   "source": [
    "df1.head()# now we have assign 0 as in and 1 as out "
   ]
  },
  {
   "cell_type": "markdown",
   "id": "0baddcb0",
   "metadata": {},
   "source": [
    "Now we will drop columns 'noted_date' beacuse we have extracted information and will take in temp as taget "
   ]
  },
  {
   "cell_type": "code",
   "execution_count": null,
   "id": "7e441e1e",
   "metadata": {},
   "outputs": [],
   "source": [
    "df.info()"
   ]
  },
  {
   "cell_type": "code",
   "execution_count": null,
   "id": "d3ebabce",
   "metadata": {},
   "outputs": [],
   "source": [
    "df1=df1.drop(['noted_date'],axis=1)"
   ]
  },
  {
   "cell_type": "code",
   "execution_count": null,
   "id": "455a0894",
   "metadata": {},
   "outputs": [],
   "source": [
    "df1.head()"
   ]
  },
  {
   "cell_type": "code",
   "execution_count": null,
   "id": "c644a9ab",
   "metadata": {},
   "outputs": [],
   "source": [
    "df2=df1[df1['out/in'].values==0]# we have take the value of in "
   ]
  },
  {
   "cell_type": "code",
   "execution_count": null,
   "id": "378f749e",
   "metadata": {},
   "outputs": [],
   "source": [
    "df2.head()"
   ]
  },
  {
   "cell_type": "code",
   "execution_count": null,
   "id": "45e39906",
   "metadata": {},
   "outputs": [],
   "source": [
    "df3=df1[df1['out/in'].values==1]"
   ]
  },
  {
   "cell_type": "markdown",
   "id": "6da869b7",
   "metadata": {},
   "source": [
    "first we will perform modeling in temp  data then out temp data as a taget"
   ]
  },
  {
   "cell_type": "code",
   "execution_count": null,
   "id": "3d599e01",
   "metadata": {},
   "outputs": [],
   "source": [
    "from sklearn.model_selection import train_test_split"
   ]
  },
  {
   "cell_type": "code",
   "execution_count": null,
   "id": "28afac70",
   "metadata": {},
   "outputs": [],
   "source": [
    "X=df2.drop('temp',axis=1)\n",
    "Y=df2['temp']"
   ]
  },
  {
   "cell_type": "code",
   "execution_count": null,
   "id": "ca549e93",
   "metadata": {},
   "outputs": [],
   "source": [
    "X.head()"
   ]
  },
  {
   "cell_type": "code",
   "execution_count": null,
   "id": "10bb530d",
   "metadata": {},
   "outputs": [],
   "source": [
    "Y.head()"
   ]
  },
  {
   "cell_type": "markdown",
   "id": "a8ac245f",
   "metadata": {},
   "source": [
    "# Scaling"
   ]
  },
  {
   "cell_type": "code",
   "execution_count": null,
   "id": "c4143aff",
   "metadata": {},
   "outputs": [],
   "source": [
    "from sklearn.preprocessing import MinMaxScaler"
   ]
  },
  {
   "cell_type": "code",
   "execution_count": null,
   "id": "e8a80d01",
   "metadata": {},
   "outputs": [],
   "source": [
    "scaler=MinMaxScaler()"
   ]
  },
  {
   "cell_type": "code",
   "execution_count": null,
   "id": "5c832222",
   "metadata": {},
   "outputs": [],
   "source": [
    "X1=scaler.fit_transform(X)"
   ]
  },
  {
   "cell_type": "code",
   "execution_count": null,
   "id": "7a0ac5ea",
   "metadata": {},
   "outputs": [],
   "source": [
    "X=pd.DataFrame(X1,columns=X.columns)"
   ]
  },
  {
   "cell_type": "code",
   "execution_count": null,
   "id": "c5f05de0",
   "metadata": {},
   "outputs": [],
   "source": [
    "X.head()"
   ]
  },
  {
   "cell_type": "code",
   "execution_count": null,
   "id": "3ef062ff",
   "metadata": {},
   "outputs": [],
   "source": [
    "import statsmodels.api as sm # required for adding constant\n"
   ]
  },
  {
   "cell_type": "code",
   "execution_count": null,
   "id": "1d8ae928",
   "metadata": {},
   "outputs": [],
   "source": [
    "X_train,X_test,Y_train,Y_test=train_test_split(X,Y,test_size=.2,random_state=100)"
   ]
  },
  {
   "cell_type": "code",
   "execution_count": null,
   "id": "1a26b155",
   "metadata": {},
   "outputs": [],
   "source": [
    "from sklearn.linear_model import LinearRegression\n",
    "from statsmodels.regression.linear_model import OLS\n",
    "import statsmodels.regression.linear_model as smf\n",
    "from sklearn.tree import DecisionTreeRegressor\n",
    "from sklearn.ensemble import RandomForestRegressor\n",
    "from sklearn.svm import SVR\n",
    "from sklearn.metrics import mean_squared_error as MSE\n",
    "from sklearn.metrics import mean_absolute_error as MAE\n",
    "from sklearn.metrics import r2_score\n",
    "from sklearn import linear_model"
   ]
  },
  {
   "cell_type": "code",
   "execution_count": null,
   "id": "28c22c4c",
   "metadata": {},
   "outputs": [],
   "source": [
    "lr=LinearRegression()\n",
    "import statsmodels.api as sm # required for adding constant\n",
    "dt=DecisionTreeRegressor()\n",
    "rf=RandomForestRegressor()\n",
    "svr=SVR()\n",
    "clf = linear_model.Lasso(alpha=0.1)\n"
   ]
  },
  {
   "cell_type": "code",
   "execution_count": null,
   "id": "131e6225",
   "metadata": {},
   "outputs": [],
   "source": [
    "for model in [lr,dt,rf,svr,clf]:\n",
    "    print('======='*3)\n",
    "    print('Perfomance of model',model)\n",
    "    print('------')\n",
    "    ab=model.fit(X_train,Y_train)\n",
    "    y_pred=ab.predict(X_test)\n",
    "#     score=model.score(Y_test,y_pred)\n",
    "    mse=MSE(Y_test,y_pred)\n",
    "    mae=MAE(Y_test,y_pred)\n",
    "    r=r2_score(Y_test,y_pred)\n",
    "#     print('score',score)  \n",
    "    print(\"mse\",mse) \n",
    "    print(\"=======\"*3)\n",
    "    print(\"mae\",mae) \n",
    "    print(\"=======\"*3)\n",
    "    print(\"accuracy\",r) \n",
    "     \n",
    "      "
   ]
  },
  {
   "cell_type": "markdown",
   "id": "937b05bc",
   "metadata": {},
   "source": [
    "we are not getting accuracy in linear regression but in random forest,Lasso and decision tree we are getting  97,91,88"
   ]
  },
  {
   "cell_type": "markdown",
   "id": "350b4176",
   "metadata": {},
   "source": [
    "lets apply modeling in 'out' data as a taget variable"
   ]
  },
  {
   "cell_type": "code",
   "execution_count": null,
   "id": "c2f499bc",
   "metadata": {},
   "outputs": [],
   "source": [
    "X1=df3.drop('temp',axis=1)\n",
    "Y1=df3['temp']"
   ]
  },
  {
   "cell_type": "code",
   "execution_count": null,
   "id": "55c6074d",
   "metadata": {},
   "outputs": [],
   "source": [
    "X2=scaler.fit_transform(X1)"
   ]
  },
  {
   "cell_type": "code",
   "execution_count": null,
   "id": "ec008f59",
   "metadata": {},
   "outputs": [],
   "source": [
    "X1=pd.DataFrame(X2,columns=X1.columns)"
   ]
  },
  {
   "cell_type": "code",
   "execution_count": null,
   "id": "ab5544bc",
   "metadata": {},
   "outputs": [],
   "source": [
    "X1.head()"
   ]
  },
  {
   "cell_type": "code",
   "execution_count": null,
   "id": "f67bc3c1",
   "metadata": {},
   "outputs": [],
   "source": [
    "X1_train,X1_test,Y1_train,Y1_test=train_test_split(X1,Y1,test_size=.2,random_state=100)"
   ]
  },
  {
   "cell_type": "code",
   "execution_count": 264,
   "id": "d17deb03",
   "metadata": {},
   "outputs": [
    {
     "data": {
      "text/html": [
       "<div>\n",
       "<style scoped>\n",
       "    .dataframe tbody tr th:only-of-type {\n",
       "        vertical-align: middle;\n",
       "    }\n",
       "\n",
       "    .dataframe tbody tr th {\n",
       "        vertical-align: top;\n",
       "    }\n",
       "\n",
       "    .dataframe thead th {\n",
       "        text-align: right;\n",
       "    }\n",
       "</style>\n",
       "<table border=\"1\" class=\"dataframe\">\n",
       "  <thead>\n",
       "    <tr style=\"text-align: right;\">\n",
       "      <th></th>\n",
       "      <th>id</th>\n",
       "      <th>out/in</th>\n",
       "      <th>Day</th>\n",
       "      <th>Month</th>\n",
       "      <th>Day_name</th>\n",
       "      <th>hours</th>\n",
       "      <th>season</th>\n",
       "      <th>Timing</th>\n",
       "    </tr>\n",
       "  </thead>\n",
       "  <tbody>\n",
       "    <tr>\n",
       "      <th>64059</th>\n",
       "      <td>0.581507</td>\n",
       "      <td>0.0</td>\n",
       "      <td>0.047619</td>\n",
       "      <td>0.857143</td>\n",
       "      <td>0.833333</td>\n",
       "      <td>0.739130</td>\n",
       "      <td>0.0</td>\n",
       "      <td>0.2</td>\n",
       "    </tr>\n",
       "    <tr>\n",
       "      <th>50852</th>\n",
       "      <td>0.588887</td>\n",
       "      <td>0.0</td>\n",
       "      <td>0.047619</td>\n",
       "      <td>1.000000</td>\n",
       "      <td>0.500000</td>\n",
       "      <td>0.304348</td>\n",
       "      <td>1.0</td>\n",
       "      <td>0.4</td>\n",
       "    </tr>\n",
       "    <tr>\n",
       "      <th>46447</th>\n",
       "      <td>0.183364</td>\n",
       "      <td>0.0</td>\n",
       "      <td>1.000000</td>\n",
       "      <td>0.761905</td>\n",
       "      <td>0.500000</td>\n",
       "      <td>0.565217</td>\n",
       "      <td>0.0</td>\n",
       "      <td>1.0</td>\n",
       "    </tr>\n",
       "    <tr>\n",
       "      <th>27269</th>\n",
       "      <td>0.305489</td>\n",
       "      <td>0.0</td>\n",
       "      <td>0.428571</td>\n",
       "      <td>0.857143</td>\n",
       "      <td>1.000000</td>\n",
       "      <td>0.869565</td>\n",
       "      <td>0.0</td>\n",
       "      <td>0.6</td>\n",
       "    </tr>\n",
       "    <tr>\n",
       "      <th>54886</th>\n",
       "      <td>0.065725</td>\n",
       "      <td>0.0</td>\n",
       "      <td>0.047619</td>\n",
       "      <td>0.952381</td>\n",
       "      <td>0.000000</td>\n",
       "      <td>0.956522</td>\n",
       "      <td>1.0</td>\n",
       "      <td>0.6</td>\n",
       "    </tr>\n",
       "  </tbody>\n",
       "</table>\n",
       "</div>"
      ],
      "text/plain": [
       "             id  out/in       Day     Month  Day_name     hours  season  \\\n",
       "64059  0.581507     0.0  0.047619  0.857143  0.833333  0.739130     0.0   \n",
       "50852  0.588887     0.0  0.047619  1.000000  0.500000  0.304348     1.0   \n",
       "46447  0.183364     0.0  1.000000  0.761905  0.500000  0.565217     0.0   \n",
       "27269  0.305489     0.0  0.428571  0.857143  1.000000  0.869565     0.0   \n",
       "54886  0.065725     0.0  0.047619  0.952381  0.000000  0.956522     1.0   \n",
       "\n",
       "       Timing  \n",
       "64059     0.2  \n",
       "50852     0.4  \n",
       "46447     1.0  \n",
       "27269     0.6  \n",
       "54886     0.6  "
      ]
     },
     "execution_count": 264,
     "metadata": {},
     "output_type": "execute_result"
    }
   ],
   "source": [
    "X1_test.head()"
   ]
  },
  {
   "cell_type": "code",
   "execution_count": 267,
   "id": "f5dc5ac2",
   "metadata": {},
   "outputs": [
    {
     "name": "stdout",
     "output_type": "stream",
     "text": [
      "=====================\n",
      "Perfomance of model LinearRegression()\n",
      "------\n",
      "mse 14.53369567586039\n",
      "=====================\n",
      "mae 2.8996652821308593\n",
      "=====================\n",
      "accuracy 0.5571001822754966\n",
      "=====================\n",
      "Perfomance of model DecisionTreeRegressor()\n",
      "------\n",
      "mse 0.583058305830583\n",
      "=====================\n",
      "mae 0.46696434349317284\n",
      "=====================\n",
      "accuracy 0.9822318821630456\n",
      "=====================\n",
      "Perfomance of model RandomForestRegressor()\n",
      "------\n",
      "mse 0.42450275027502754\n",
      "=====================\n",
      "mae 0.4498608684397852\n",
      "=====================\n",
      "accuracy 0.9870637038979262\n",
      "=====================\n",
      "Perfomance of model SVR()\n",
      "------\n",
      "mse 3.78977466131317\n",
      "=====================\n",
      "mae 1.0704234837645428\n",
      "=====================\n",
      "accuracy 0.8845104133079917\n",
      "=====================\n",
      "Perfomance of model Lasso(alpha=0.1)\n",
      "------\n",
      "mse 15.690099839747013\n",
      "=====================\n",
      "mae 3.1099501173756345\n",
      "=====================\n",
      "accuracy 0.5218599237188289\n"
     ]
    }
   ],
   "source": [
    "for model in [lr,dt,rf,svr,clf]:\n",
    "    print('======='*3)\n",
    "    print('Perfomance of model',model)\n",
    "    print('------')\n",
    "    ab=model.fit(X1_train,Y1_train)\n",
    "    y1_pred=ab.predict(X1_test)\n",
    "#     score=model.score(Y_test,y_pred)\n",
    "    mse=MSE(Y1_test,y1_pred)\n",
    "    mae=MAE(Y1_test,y1_pred)\n",
    "    r=r2_score(Y1_test,y1_pred)\n",
    "#     print('score',score)  \n",
    "    print(\"mse\",mse) \n",
    "    print(\"=======\"*3)\n",
    "    print(\"mae\",mae) \n",
    "    print(\"=======\"*3)\n",
    "    print(\"accuracy\",r) "
   ]
  },
  {
   "cell_type": "markdown",
   "id": "1cfb3599",
   "metadata": {},
   "source": [
    "we are not getting accuracy in linear regression but in random forest and decision tree we are getting 98% "
   ]
  },
  {
   "cell_type": "markdown",
   "id": "6b2c56b6",
   "metadata": {},
   "source": [
    "# Conclusion"
   ]
  },
  {
   "cell_type": "markdown",
   "id": "895c7dfd",
   "metadata": {},
   "source": [
    "-"
   ]
  },
  {
   "cell_type": "markdown",
   "id": "aefd60cb",
   "metadata": {},
   "source": [
    "As we can see, Random forest , Lasso and decision tree are performing really well on the datasets. But we got best results in  Lasso  algorithm\n",
    "\n",
    "lasso achieved 97% accuracy in ‘IN’ as a Target variable \n",
    "\n",
    "In ‘OUT’ target variable we are getting accuracy in  random forest and decision tree we are getting 98%\n",
    "\n",
    "We have conclude that the temp is high in Month of January , February  and Minimum temp in month of June \n",
    "\n",
    "On Wednesday and in morning time temp is high\n",
    "\n",
    "In rainy season the temperature is high and on the contrary in Summer it’s Low\n",
    "\n"
   ]
  },
  {
   "cell_type": "code",
   "execution_count": 273,
   "id": "aee1f46c",
   "metadata": {},
   "outputs": [],
   "source": [
    "pickle.dump(rf,open('model.pkl','wb'))\n",
    "model=pickle.load(open(\"model.pkl\",'rb'))   "
   ]
  },
  {
   "cell_type": "code",
   "execution_count": 274,
   "id": "65ed53b0",
   "metadata": {},
   "outputs": [
    {
     "name": "stdout",
     "output_type": "stream",
     "text": [
      "[49.42]\n"
     ]
    }
   ],
   "source": [
    "print(model.predict([[0.183364,0.0,1.000000,0.761905,0.500000,0.565217,0.0,1.0]]))"
   ]
  },
  {
   "cell_type": "code",
   "execution_count": null,
   "id": "d8ff7a7d",
   "metadata": {},
   "outputs": [],
   "source": []
  },
  {
   "cell_type": "code",
   "execution_count": null,
   "id": "876a0691",
   "metadata": {},
   "outputs": [],
   "source": []
  }
 ],
 "metadata": {
  "kernelspec": {
   "display_name": "Python 3 (ipykernel)",
   "language": "python",
   "name": "python3"
  },
  "language_info": {
   "codemirror_mode": {
    "name": "ipython",
    "version": 3
   },
   "file_extension": ".py",
   "mimetype": "text/x-python",
   "name": "python",
   "nbconvert_exporter": "python",
   "pygments_lexer": "ipython3",
   "version": "3.9.12"
  }
 },
 "nbformat": 4,
 "nbformat_minor": 5
}
